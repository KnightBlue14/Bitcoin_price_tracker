{
  "nbformat": 4,
  "nbformat_minor": 0,
  "metadata": {
    "colab": {
      "provenance": []
    },
    "kernelspec": {
      "name": "python3",
      "display_name": "Python 3"
    },
    "language_info": {
      "name": "python"
    }
  },
  "cells": [
    {
      "cell_type": "code",
      "execution_count": null,
      "metadata": {
        "id": "d6pwovOuuchy"
      },
      "outputs": [],
      "source": [
        "import numpy as np\n",
        "import requests\n",
        "from pprint import pprint\n",
        "import pandas as pd\n",
        "import time"
      ]
    },
    {
      "cell_type": "code",
      "source": [
        "currency = 'GBP'\n",
        "currency_url = 'https://api.coindesk.com/v1/bpi/supported-currencies.json'\n",
        "url = f'https://api.coindesk.com/v1/bpi/currentprice/{currency}.json'\n",
        "response1 = requests.get(currency_url)\n",
        "response2 = requests.get(url)\n",
        "print(response)"
      ],
      "metadata": {
        "colab": {
          "base_uri": "https://localhost:8080/"
        },
        "id": "VvyUxf8l6OE3",
        "outputId": "5b68ad28-4953-4a54-de95-e92230388183"
      },
      "execution_count": null,
      "outputs": [
        {
          "output_type": "stream",
          "name": "stdout",
          "text": [
            "<Response [200]>\n"
          ]
        }
      ]
    },
    {
      "cell_type": "code",
      "source": [
        "while True:\n",
        "  response2 = requests.get(url)\n",
        "  text = response2.json()\n",
        "  pprint(text[\"bpi\"][\"USD\"][\"rate\"])\n",
        "  time.sleep(60)\n"
      ],
      "metadata": {
        "id": "HR6F_1OZhR2Q"
      },
      "execution_count": null,
      "outputs": []
    },
    {
      "cell_type": "code",
      "source": [
        "text = response2.json()\n",
        "pprint(text)\n",
        "pprint('...............')\n",
        "pprint(text['bpi'])\n",
        "pprint('...............')\n",
        "pprint(text[\"bpi\"][f\"{currency}\"])\n",
        "pprint('...............')\n",
        "pprint(text[\"bpi\"][\"USD\"][\"rate\"])"
      ],
      "metadata": {
        "colab": {
          "base_uri": "https://localhost:8080/"
        },
        "id": "RdLtBUnI6uUF",
        "outputId": "0b6b3395-60e1-430f-fe42-c298d3483eb5"
      },
      "execution_count": null,
      "outputs": [
        {
          "output_type": "stream",
          "name": "stdout",
          "text": [
            "{'bpi': {'JPY': {'code': 'JPY',\n",
            "                 'description': 'Japanese Yen',\n",
            "                 'rate': '3,939,969.9946',\n",
            "                 'rate_float': 3939969.9946},\n",
            "         'USD': {'code': 'USD',\n",
            "                 'description': 'United States Dollar',\n",
            "                 'rate': '29,146.8203',\n",
            "                 'rate_float': 29146.8203}},\n",
            " 'disclaimer': 'This data was produced from the CoinDesk Bitcoin Price Index '\n",
            "               '(USD). Non-USD currency data converted using hourly conversion '\n",
            "               'rate from openexchangerates.org',\n",
            " 'time': {'updated': 'Aug 16, 2023 12:58:00 UTC',\n",
            "          'updatedISO': '2023-08-16T12:58:00+00:00',\n",
            "          'updateduk': 'Aug 16, 2023 at 13:58 BST'}}\n",
            "'...............'\n",
            "{'JPY': {'code': 'JPY',\n",
            "         'description': 'Japanese Yen',\n",
            "         'rate': '3,939,969.9946',\n",
            "         'rate_float': 3939969.9946},\n",
            " 'USD': {'code': 'USD',\n",
            "         'description': 'United States Dollar',\n",
            "         'rate': '29,146.8203',\n",
            "         'rate_float': 29146.8203}}\n",
            "'...............'\n",
            "{'code': 'JPY',\n",
            " 'description': 'Japanese Yen',\n",
            " 'rate': '3,939,969.9946',\n",
            " 'rate_float': 3939969.9946}\n",
            "'...............'\n",
            "'29,146.8203'\n"
          ]
        }
      ]
    },
    {
      "cell_type": "code",
      "source": [
        "#Collect supported currencies and their associated codes\n",
        "\n",
        "code = response.json()\n",
        "for i,j in enumerate(code):\n",
        "  print([code[i]['country'], code[i]['currency']][1])"
      ],
      "metadata": {
        "id": "4tZCPKyGTb1l"
      },
      "execution_count": null,
      "outputs": []
    }
  ]
}